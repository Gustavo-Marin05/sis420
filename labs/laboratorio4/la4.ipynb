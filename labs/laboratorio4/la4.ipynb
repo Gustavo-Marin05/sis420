{
 "cells": [
  {
   "cell_type": "markdown",
   "id": "eddac196",
   "metadata": {},
   "source": [
    "IMPORTACION DE LIBRERIAS"
   ]
  },
  {
   "cell_type": "code",
   "execution_count": 280,
   "id": "ce753b56",
   "metadata": {},
   "outputs": [],
   "source": [
    "import pandas as  pd\n",
    "import numpy as np\n",
    "from matplotlib import pyplot\n",
    "from scipy import optimize\n",
    "from sklearn.model_selection import train_test_split\n",
    "\n",
    "%matplotlib inline\n"
   ]
  },
  {
   "cell_type": "markdown",
   "id": "1299aa16",
   "metadata": {},
   "source": [
    "LECTURA DEL DATASET"
   ]
  },
  {
   "cell_type": "code",
   "execution_count": 281,
   "id": "fc12490d",
   "metadata": {},
   "outputs": [
    {
     "data": {
      "text/html": [
       "<div>\n",
       "<style scoped>\n",
       "    .dataframe tbody tr th:only-of-type {\n",
       "        vertical-align: middle;\n",
       "    }\n",
       "\n",
       "    .dataframe tbody tr th {\n",
       "        vertical-align: top;\n",
       "    }\n",
       "\n",
       "    .dataframe thead th {\n",
       "        text-align: right;\n",
       "    }\n",
       "</style>\n",
       "<table border=\"1\" class=\"dataframe\">\n",
       "  <thead>\n",
       "    <tr style=\"text-align: right;\">\n",
       "      <th></th>\n",
       "      <th>Area</th>\n",
       "      <th>Perimeter</th>\n",
       "      <th>MajorAxisLength</th>\n",
       "      <th>MinorAxisLength</th>\n",
       "      <th>AspectRation</th>\n",
       "      <th>Eccentricity</th>\n",
       "      <th>ConvexArea</th>\n",
       "      <th>EquivDiameter</th>\n",
       "      <th>Extent</th>\n",
       "      <th>Solidity</th>\n",
       "      <th>roundness</th>\n",
       "      <th>Compactness</th>\n",
       "      <th>ShapeFactor1</th>\n",
       "      <th>ShapeFactor2</th>\n",
       "      <th>ShapeFactor3</th>\n",
       "      <th>ShapeFactor4</th>\n",
       "      <th>Class</th>\n",
       "    </tr>\n",
       "  </thead>\n",
       "  <tbody>\n",
       "    <tr>\n",
       "      <th>0</th>\n",
       "      <td>28395</td>\n",
       "      <td>610.291</td>\n",
       "      <td>208.178117</td>\n",
       "      <td>173.888747</td>\n",
       "      <td>1.197191</td>\n",
       "      <td>0.549812</td>\n",
       "      <td>28715</td>\n",
       "      <td>190.141097</td>\n",
       "      <td>0.763923</td>\n",
       "      <td>0.988856</td>\n",
       "      <td>0.958027</td>\n",
       "      <td>0.913358</td>\n",
       "      <td>0.007332</td>\n",
       "      <td>0.003147</td>\n",
       "      <td>0.834222</td>\n",
       "      <td>0.998724</td>\n",
       "      <td>SEKER</td>\n",
       "    </tr>\n",
       "    <tr>\n",
       "      <th>1</th>\n",
       "      <td>28734</td>\n",
       "      <td>638.018</td>\n",
       "      <td>200.524796</td>\n",
       "      <td>182.734419</td>\n",
       "      <td>1.097356</td>\n",
       "      <td>0.411785</td>\n",
       "      <td>29172</td>\n",
       "      <td>191.272750</td>\n",
       "      <td>0.783968</td>\n",
       "      <td>0.984986</td>\n",
       "      <td>0.887034</td>\n",
       "      <td>0.953861</td>\n",
       "      <td>0.006979</td>\n",
       "      <td>0.003564</td>\n",
       "      <td>0.909851</td>\n",
       "      <td>0.998430</td>\n",
       "      <td>SEKER</td>\n",
       "    </tr>\n",
       "    <tr>\n",
       "      <th>2</th>\n",
       "      <td>29380</td>\n",
       "      <td>624.110</td>\n",
       "      <td>212.826130</td>\n",
       "      <td>175.931143</td>\n",
       "      <td>1.209713</td>\n",
       "      <td>0.562727</td>\n",
       "      <td>29690</td>\n",
       "      <td>193.410904</td>\n",
       "      <td>0.778113</td>\n",
       "      <td>0.989559</td>\n",
       "      <td>0.947849</td>\n",
       "      <td>0.908774</td>\n",
       "      <td>0.007244</td>\n",
       "      <td>0.003048</td>\n",
       "      <td>0.825871</td>\n",
       "      <td>0.999066</td>\n",
       "      <td>SEKER</td>\n",
       "    </tr>\n",
       "    <tr>\n",
       "      <th>3</th>\n",
       "      <td>30008</td>\n",
       "      <td>645.884</td>\n",
       "      <td>210.557999</td>\n",
       "      <td>182.516516</td>\n",
       "      <td>1.153638</td>\n",
       "      <td>0.498616</td>\n",
       "      <td>30724</td>\n",
       "      <td>195.467062</td>\n",
       "      <td>0.782681</td>\n",
       "      <td>0.976696</td>\n",
       "      <td>0.903936</td>\n",
       "      <td>0.928329</td>\n",
       "      <td>0.007017</td>\n",
       "      <td>0.003215</td>\n",
       "      <td>0.861794</td>\n",
       "      <td>0.994199</td>\n",
       "      <td>SEKER</td>\n",
       "    </tr>\n",
       "    <tr>\n",
       "      <th>4</th>\n",
       "      <td>30140</td>\n",
       "      <td>620.134</td>\n",
       "      <td>201.847882</td>\n",
       "      <td>190.279279</td>\n",
       "      <td>1.060798</td>\n",
       "      <td>0.333680</td>\n",
       "      <td>30417</td>\n",
       "      <td>195.896503</td>\n",
       "      <td>0.773098</td>\n",
       "      <td>0.990893</td>\n",
       "      <td>0.984877</td>\n",
       "      <td>0.970516</td>\n",
       "      <td>0.006697</td>\n",
       "      <td>0.003665</td>\n",
       "      <td>0.941900</td>\n",
       "      <td>0.999166</td>\n",
       "      <td>SEKER</td>\n",
       "    </tr>\n",
       "  </tbody>\n",
       "</table>\n",
       "</div>"
      ],
      "text/plain": [
       "    Area  Perimeter  MajorAxisLength  MinorAxisLength  AspectRation  \\\n",
       "0  28395    610.291       208.178117       173.888747      1.197191   \n",
       "1  28734    638.018       200.524796       182.734419      1.097356   \n",
       "2  29380    624.110       212.826130       175.931143      1.209713   \n",
       "3  30008    645.884       210.557999       182.516516      1.153638   \n",
       "4  30140    620.134       201.847882       190.279279      1.060798   \n",
       "\n",
       "   Eccentricity  ConvexArea  EquivDiameter    Extent  Solidity  roundness  \\\n",
       "0      0.549812       28715     190.141097  0.763923  0.988856   0.958027   \n",
       "1      0.411785       29172     191.272750  0.783968  0.984986   0.887034   \n",
       "2      0.562727       29690     193.410904  0.778113  0.989559   0.947849   \n",
       "3      0.498616       30724     195.467062  0.782681  0.976696   0.903936   \n",
       "4      0.333680       30417     195.896503  0.773098  0.990893   0.984877   \n",
       "\n",
       "   Compactness  ShapeFactor1  ShapeFactor2  ShapeFactor3  ShapeFactor4  Class  \n",
       "0     0.913358      0.007332      0.003147      0.834222      0.998724  SEKER  \n",
       "1     0.953861      0.006979      0.003564      0.909851      0.998430  SEKER  \n",
       "2     0.908774      0.007244      0.003048      0.825871      0.999066  SEKER  \n",
       "3     0.928329      0.007017      0.003215      0.861794      0.994199  SEKER  \n",
       "4     0.970516      0.006697      0.003665      0.941900      0.999166  SEKER  "
      ]
     },
     "execution_count": 281,
     "metadata": {},
     "output_type": "execute_result"
    }
   ],
   "source": [
    "\n",
    "\n",
    "# Leer archivo Excel\n",
    "data = pd.read_csv('./Dry_Bean_Dataset.csv')\n",
    "\n",
    "\n",
    "\n",
    "data.head()\n"
   ]
  },
  {
   "cell_type": "code",
   "execution_count": 282,
   "id": "15316cfb",
   "metadata": {},
   "outputs": [
    {
     "name": "stdout",
     "output_type": "stream",
     "text": [
      "<class 'pandas.core.frame.DataFrame'>\n",
      "RangeIndex: 13611 entries, 0 to 13610\n",
      "Data columns (total 17 columns):\n",
      " #   Column           Non-Null Count  Dtype  \n",
      "---  ------           --------------  -----  \n",
      " 0   Area             13611 non-null  int64  \n",
      " 1   Perimeter        13611 non-null  float64\n",
      " 2   MajorAxisLength  13611 non-null  float64\n",
      " 3   MinorAxisLength  13611 non-null  float64\n",
      " 4   AspectRation     13611 non-null  float64\n",
      " 5   Eccentricity     13611 non-null  float64\n",
      " 6   ConvexArea       13611 non-null  int64  \n",
      " 7   EquivDiameter    13611 non-null  float64\n",
      " 8   Extent           13611 non-null  float64\n",
      " 9   Solidity         13611 non-null  float64\n",
      " 10  roundness        13611 non-null  float64\n",
      " 11  Compactness      13611 non-null  float64\n",
      " 12  ShapeFactor1     13611 non-null  float64\n",
      " 13  ShapeFactor2     13611 non-null  float64\n",
      " 14  ShapeFactor3     13611 non-null  float64\n",
      " 15  ShapeFactor4     13611 non-null  float64\n",
      " 16  Class            13611 non-null  object \n",
      "dtypes: float64(14), int64(2), object(1)\n",
      "memory usage: 1.8+ MB\n"
     ]
    }
   ],
   "source": [
    "data.info()"
   ]
  },
  {
   "cell_type": "markdown",
   "id": "bb99095a",
   "metadata": {},
   "source": [
    "PRE PROCESAMIENTO DEL DATASET      \n"
   ]
  },
  {
   "cell_type": "code",
   "execution_count": 283,
   "id": "78404ee0",
   "metadata": {},
   "outputs": [
    {
     "name": "stdout",
     "output_type": "stream",
     "text": [
      "['SEKER' 'BARBUNYA' 'BOMBAY' 'CALI' 'HOROZ' 'SIRA' 'DERMASON']\n",
      "Class\n",
      "DERMASON    3546\n",
      "SIRA        2636\n",
      "SEKER       2027\n",
      "HOROZ       1928\n",
      "CALI        1630\n",
      "BARBUNYA    1322\n",
      "BOMBAY       522\n",
      "Name: count, dtype: int64\n",
      "Area    Perimeter  MajorAxisLength  MinorAxisLength  AspectRation  Eccentricity  ConvexArea  EquivDiameter  Extent    Solidity  roundness  Compactness  ShapeFactor1  ShapeFactor2  ShapeFactor3  ShapeFactor4  Class \n",
      "33518   702.956    277.571399       154.305581       1.798842      0.831240      34023       206.582775     0.808383  0.985157  0.852377   0.744251     0.008281      0.001567      0.553909      0.996396      HOROZ     2\n",
      "43746   836.693    339.352567       165.411442       2.051566      0.873161      44442       236.006646     0.713778  0.984339  0.785264   0.695462     0.007757      0.001119      0.483667      0.992274      HOROZ     2\n",
      "42156   815.245    335.198243       160.936938       2.082792      0.877200      42586       231.677980     0.834046  0.989903  0.797064   0.691167     0.007951      0.001119      0.477712      0.994975      HOROZ     2\n",
      "41978   821.864    337.171464       160.036067       2.106847      0.880178      42593       231.188342     0.684885  0.985561  0.780965   0.685670     0.008032      0.001095      0.470143      0.990520      HOROZ     2\n",
      "38891   791.343    319.499996       156.869619       2.036723      0.871168      39651       222.525412     0.650025  0.980833  0.780422   0.696480     0.008215      0.001192      0.485085      0.987983      HOROZ     2\n",
      "                                                                                                                                                                                                                         ..\n",
      "218738  1810.955   682.465547       412.081448       1.656142      0.797126      223507      527.736555     0.703064  0.978663  0.838144   0.773279     0.003120      0.000688      0.597961      0.990309      BOMBAY    1\n",
      "218983  1845.855   713.967282       394.053816       1.811852      0.833896      222086      528.032021     0.745626  0.986028  0.807654   0.739575     0.003260      0.000602      0.546970      0.991030      BOMBAY    1\n",
      "221203  1792.381   689.243055       412.256881       1.671878      0.801399      224322      530.701806     0.739191  0.986096  0.865247   0.769978     0.003116      0.000676      0.592866      0.991199      BOMBAY    1\n",
      "221428  1812.571   679.720037       417.638201       1.627533      0.788974      225247      530.971643     0.805339  0.983045  0.846939   0.781162     0.003070      0.000705      0.610214      0.993144      BOMBAY    1\n",
      "254616  1985.370   738.860153       447.418329       1.651386      0.795806      263261      569.374358     0.783747  0.967162  0.811732   0.770612     0.002902      0.000631      0.593843      0.980663      BOMBAY    1\n",
      "Name: count, Length: 13543, dtype: int64\n"
     ]
    }
   ],
   "source": [
    "# Mostrar valores únicos\n",
    "print(data['Class'].unique())\n",
    "\n",
    "# Contar cuántas veces aparece cada valor\n",
    "print(data['Class'].value_counts())\n",
    "\n",
    "print(data.value_counts())\n"
   ]
  },
  {
   "cell_type": "code",
   "execution_count": 284,
   "id": "176cec04",
   "metadata": {},
   "outputs": [
    {
     "name": "stdout",
     "output_type": "stream",
     "text": [
      "   Class  Class_num\n",
      "0  SEKER          2\n",
      "1  SEKER          2\n",
      "2  SEKER          2\n",
      "3  SEKER          2\n",
      "4  SEKER          2\n"
     ]
    }
   ],
   "source": [
    "mapping = {\n",
    "    'DERMASON': 0,\n",
    "    'SIRA': 1,\n",
    "    'SEKER': 2,\n",
    "    'HOROZ': 3,\n",
    "    'CALI': 4,\n",
    "    'BARBUNYA': 5,\n",
    "    'BOMBAY': 6\n",
    "}\n",
    "\n",
    "data['Class_num'] = data['Class'].map(mapping)\n",
    "print(data[['Class', 'Class_num']].head())"
   ]
  },
  {
   "cell_type": "code",
   "execution_count": 285,
   "id": "940b500f",
   "metadata": {},
   "outputs": [
    {
     "data": {
      "text/html": [
       "<div>\n",
       "<style scoped>\n",
       "    .dataframe tbody tr th:only-of-type {\n",
       "        vertical-align: middle;\n",
       "    }\n",
       "\n",
       "    .dataframe tbody tr th {\n",
       "        vertical-align: top;\n",
       "    }\n",
       "\n",
       "    .dataframe thead th {\n",
       "        text-align: right;\n",
       "    }\n",
       "</style>\n",
       "<table border=\"1\" class=\"dataframe\">\n",
       "  <thead>\n",
       "    <tr style=\"text-align: right;\">\n",
       "      <th></th>\n",
       "      <th>Area</th>\n",
       "      <th>Perimeter</th>\n",
       "      <th>MajorAxisLength</th>\n",
       "      <th>MinorAxisLength</th>\n",
       "      <th>AspectRation</th>\n",
       "      <th>Eccentricity</th>\n",
       "      <th>ConvexArea</th>\n",
       "      <th>EquivDiameter</th>\n",
       "      <th>Extent</th>\n",
       "      <th>Solidity</th>\n",
       "      <th>roundness</th>\n",
       "      <th>Compactness</th>\n",
       "      <th>ShapeFactor1</th>\n",
       "      <th>ShapeFactor2</th>\n",
       "      <th>ShapeFactor3</th>\n",
       "      <th>ShapeFactor4</th>\n",
       "      <th>Class</th>\n",
       "      <th>Class_num</th>\n",
       "    </tr>\n",
       "  </thead>\n",
       "  <tbody>\n",
       "    <tr>\n",
       "      <th>0</th>\n",
       "      <td>28395</td>\n",
       "      <td>610.291</td>\n",
       "      <td>208.178117</td>\n",
       "      <td>173.888747</td>\n",
       "      <td>1.197191</td>\n",
       "      <td>0.549812</td>\n",
       "      <td>28715</td>\n",
       "      <td>190.141097</td>\n",
       "      <td>0.763923</td>\n",
       "      <td>0.988856</td>\n",
       "      <td>0.958027</td>\n",
       "      <td>0.913358</td>\n",
       "      <td>0.007332</td>\n",
       "      <td>0.003147</td>\n",
       "      <td>0.834222</td>\n",
       "      <td>0.998724</td>\n",
       "      <td>SEKER</td>\n",
       "      <td>2</td>\n",
       "    </tr>\n",
       "    <tr>\n",
       "      <th>1</th>\n",
       "      <td>28734</td>\n",
       "      <td>638.018</td>\n",
       "      <td>200.524796</td>\n",
       "      <td>182.734419</td>\n",
       "      <td>1.097356</td>\n",
       "      <td>0.411785</td>\n",
       "      <td>29172</td>\n",
       "      <td>191.272750</td>\n",
       "      <td>0.783968</td>\n",
       "      <td>0.984986</td>\n",
       "      <td>0.887034</td>\n",
       "      <td>0.953861</td>\n",
       "      <td>0.006979</td>\n",
       "      <td>0.003564</td>\n",
       "      <td>0.909851</td>\n",
       "      <td>0.998430</td>\n",
       "      <td>SEKER</td>\n",
       "      <td>2</td>\n",
       "    </tr>\n",
       "    <tr>\n",
       "      <th>2</th>\n",
       "      <td>29380</td>\n",
       "      <td>624.110</td>\n",
       "      <td>212.826130</td>\n",
       "      <td>175.931143</td>\n",
       "      <td>1.209713</td>\n",
       "      <td>0.562727</td>\n",
       "      <td>29690</td>\n",
       "      <td>193.410904</td>\n",
       "      <td>0.778113</td>\n",
       "      <td>0.989559</td>\n",
       "      <td>0.947849</td>\n",
       "      <td>0.908774</td>\n",
       "      <td>0.007244</td>\n",
       "      <td>0.003048</td>\n",
       "      <td>0.825871</td>\n",
       "      <td>0.999066</td>\n",
       "      <td>SEKER</td>\n",
       "      <td>2</td>\n",
       "    </tr>\n",
       "    <tr>\n",
       "      <th>3</th>\n",
       "      <td>30008</td>\n",
       "      <td>645.884</td>\n",
       "      <td>210.557999</td>\n",
       "      <td>182.516516</td>\n",
       "      <td>1.153638</td>\n",
       "      <td>0.498616</td>\n",
       "      <td>30724</td>\n",
       "      <td>195.467062</td>\n",
       "      <td>0.782681</td>\n",
       "      <td>0.976696</td>\n",
       "      <td>0.903936</td>\n",
       "      <td>0.928329</td>\n",
       "      <td>0.007017</td>\n",
       "      <td>0.003215</td>\n",
       "      <td>0.861794</td>\n",
       "      <td>0.994199</td>\n",
       "      <td>SEKER</td>\n",
       "      <td>2</td>\n",
       "    </tr>\n",
       "    <tr>\n",
       "      <th>4</th>\n",
       "      <td>30140</td>\n",
       "      <td>620.134</td>\n",
       "      <td>201.847882</td>\n",
       "      <td>190.279279</td>\n",
       "      <td>1.060798</td>\n",
       "      <td>0.333680</td>\n",
       "      <td>30417</td>\n",
       "      <td>195.896503</td>\n",
       "      <td>0.773098</td>\n",
       "      <td>0.990893</td>\n",
       "      <td>0.984877</td>\n",
       "      <td>0.970516</td>\n",
       "      <td>0.006697</td>\n",
       "      <td>0.003665</td>\n",
       "      <td>0.941900</td>\n",
       "      <td>0.999166</td>\n",
       "      <td>SEKER</td>\n",
       "      <td>2</td>\n",
       "    </tr>\n",
       "  </tbody>\n",
       "</table>\n",
       "</div>"
      ],
      "text/plain": [
       "    Area  Perimeter  MajorAxisLength  MinorAxisLength  AspectRation  \\\n",
       "0  28395    610.291       208.178117       173.888747      1.197191   \n",
       "1  28734    638.018       200.524796       182.734419      1.097356   \n",
       "2  29380    624.110       212.826130       175.931143      1.209713   \n",
       "3  30008    645.884       210.557999       182.516516      1.153638   \n",
       "4  30140    620.134       201.847882       190.279279      1.060798   \n",
       "\n",
       "   Eccentricity  ConvexArea  EquivDiameter    Extent  Solidity  roundness  \\\n",
       "0      0.549812       28715     190.141097  0.763923  0.988856   0.958027   \n",
       "1      0.411785       29172     191.272750  0.783968  0.984986   0.887034   \n",
       "2      0.562727       29690     193.410904  0.778113  0.989559   0.947849   \n",
       "3      0.498616       30724     195.467062  0.782681  0.976696   0.903936   \n",
       "4      0.333680       30417     195.896503  0.773098  0.990893   0.984877   \n",
       "\n",
       "   Compactness  ShapeFactor1  ShapeFactor2  ShapeFactor3  ShapeFactor4  Class  \\\n",
       "0     0.913358      0.007332      0.003147      0.834222      0.998724  SEKER   \n",
       "1     0.953861      0.006979      0.003564      0.909851      0.998430  SEKER   \n",
       "2     0.908774      0.007244      0.003048      0.825871      0.999066  SEKER   \n",
       "3     0.928329      0.007017      0.003215      0.861794      0.994199  SEKER   \n",
       "4     0.970516      0.006697      0.003665      0.941900      0.999166  SEKER   \n",
       "\n",
       "   Class_num  \n",
       "0          2  \n",
       "1          2  \n",
       "2          2  \n",
       "3          2  \n",
       "4          2  "
      ]
     },
     "execution_count": 285,
     "metadata": {},
     "output_type": "execute_result"
    }
   ],
   "source": [
    "data.head()"
   ]
  },
  {
   "cell_type": "markdown",
   "id": "4cb4d0fd",
   "metadata": {},
   "source": [
    "DIVICION DEL DATASET EN DATOS DE ENTRENAMIENTO Y PRUEBA , DE MANERA BALANCEADA"
   ]
  },
  {
   "cell_type": "code",
   "execution_count": 286,
   "id": "30987916",
   "metadata": {},
   "outputs": [
    {
     "name": "stdout",
     "output_type": "stream",
     "text": [
      "Tamaño train: (10888, 16) (10888,)\n",
      "Tamaño test: (2723, 16) (2723,)\n",
      "Distribución clases en train:\n",
      "0    0.260562\n",
      "1    0.193699\n",
      "2    0.148880\n",
      "3    0.141624\n",
      "4    0.119765\n",
      "5    0.097079\n",
      "6    0.038391\n",
      "Name: proportion, dtype: float64\n",
      "Distribución clases en test:\n",
      "0    0.260375\n",
      "1    0.193537\n",
      "2    0.149100\n",
      "3    0.141755\n",
      "4    0.119721\n",
      "5    0.097319\n",
      "6    0.038193\n",
      "Name: proportion, dtype: float64\n"
     ]
    }
   ],
   "source": [
    "X=data.drop(columns=[\"Class\", \"Class_num\"]).values\n",
    "y = data['Class_num'].values\n",
    "\n",
    "\n",
    "X_train, X_test, y_train, y_test = train_test_split(\n",
    "    X, y, \n",
    "    test_size=0.2, \n",
    "    random_state=42,  \n",
    "    stratify=y       \n",
    ")\n",
    "\n",
    "print(\"Tamaño train:\", X_train.shape, y_train.shape)\n",
    "print(\"Tamaño test:\", X_test.shape, y_test.shape)\n",
    "\n",
    "print(\"Distribución clases en train:\")\n",
    "print(pd.Series(y_train).value_counts(normalize=True))\n",
    "\n",
    "print(\"Distribución clases en test:\")\n",
    "print(pd.Series(y_test).value_counts(normalize=True))"
   ]
  },
  {
   "cell_type": "code",
   "execution_count": 287,
   "id": "d5171592",
   "metadata": {},
   "outputs": [
    {
     "name": "stdout",
     "output_type": "stream",
     "text": [
      "Primera fila de X (features):\n",
      "[5.24170000e+04 9.03773000e+02 3.69666729e+02 1.81151959e+02\n",
      " 2.04064439e+00 8.71699224e-01 5.30960000e+04 2.58339693e+02\n",
      " 7.24151746e-01 9.87211843e-01 8.06423731e-01 6.98844861e-01\n",
      " 7.05242056e-03 1.03762653e-03 4.88384139e-01 9.96618352e-01]\n",
      "\n",
      "Vector y (etiquetas):\n",
      "[3 3 1 ... 4 1 2]\n"
     ]
    }
   ],
   "source": [
    "X =X_train\n",
    "y=y_train\n",
    "\n",
    "\n",
    "m= y.size\n",
    "\n",
    "input_layer_size = X.shape[1]  \n",
    "num_labels = len(np.unique(y))\n",
    "\n",
    "\n",
    "# Ejemplo: imprimir primera fila de X y todo el vector y\n",
    "print(\"Primera fila de X (features):\")\n",
    "print(X[0, :])   # todas las características del primer ejemplo\n",
    "\n",
    "print(\"\\nVector y (etiquetas):\")\n",
    "print(y)    \n",
    "\n"
   ]
  },
  {
   "cell_type": "markdown",
   "id": "e372b253",
   "metadata": {},
   "source": [
    "NORMALIZACION DE LOS DATOS"
   ]
  },
  {
   "cell_type": "code",
   "execution_count": 288,
   "id": "87409fdf",
   "metadata": {},
   "outputs": [],
   "source": [
    "def featureNormalize(X):\n",
    "    X_norm=X.copy()\n",
    "    mu=np.zeros(X.shape[1])\n",
    "    sigma=np.zeros(X.shape[1])\n",
    "    \n",
    "    mu = np.mean(X, axis=0)\n",
    "    sigma = np.std(X,axis=0)\n",
    "    X_norm=(X-mu)/sigma\n",
    "\n",
    "    return X_norm, mu,sigma"
   ]
  },
  {
   "cell_type": "code",
   "execution_count": 289,
   "id": "0326271c",
   "metadata": {},
   "outputs": [],
   "source": [
    "\n",
    "X_norm, mu, sigma = featureNormalize(X)"
   ]
  },
  {
   "cell_type": "code",
   "execution_count": 290,
   "id": "e4d6d768",
   "metadata": {},
   "outputs": [
    {
     "name": "stdout",
     "output_type": "stream",
     "text": [
      "[5.24170000e+04 9.03773000e+02 3.69666729e+02 1.81151959e+02\n",
      " 2.04064439e+00 8.71699224e-01 5.30960000e+04 2.58339693e+02\n",
      " 7.24151746e-01 9.87211843e-01 8.06423731e-01 6.98844861e-01\n",
      " 7.05242056e-03 1.03762653e-03 4.88384139e-01 9.96618352e-01]\n",
      "[3 3 1 ... 4 1 2]\n"
     ]
    }
   ],
   "source": [
    "print(X[0, :]) \n",
    "print(y)"
   ]
  },
  {
   "cell_type": "code",
   "execution_count": 291,
   "id": "9de3f7f5",
   "metadata": {},
   "outputs": [],
   "source": [
    "m, n = X.shape\n",
    "X = X_norm"
   ]
  },
  {
   "cell_type": "markdown",
   "id": "65c698a7",
   "metadata": {},
   "source": [
    "FUCION SIGMOIDE"
   ]
  },
  {
   "cell_type": "code",
   "execution_count": 292,
   "id": "d1f73fa0",
   "metadata": {},
   "outputs": [],
   "source": [
    "def sigmoid(z):\n",
    "    return 1.0 / (1.0 + np.exp(-z))"
   ]
  },
  {
   "cell_type": "markdown",
   "id": "632a9ead",
   "metadata": {},
   "source": [
    "CALCULO DEL COSTO Y DECENSO GRADIENTE MANUAL"
   ]
  },
  {
   "cell_type": "code",
   "execution_count": 293,
   "id": "d0794c12",
   "metadata": {},
   "outputs": [],
   "source": [
    "def calcularCosto(theta, X, y):\n",
    "    \n",
    "    m = y.size\n",
    "\n",
    "    J = 0\n",
    "    h = sigmoid(X.dot(theta.T))\n",
    "    J = (1 / m) * np.sum(-y.dot(np.log(h)) - (1 - y).dot(np.log(1 - h)))\n",
    "\n",
    "    return J"
   ]
  },
  {
   "cell_type": "code",
   "execution_count": 294,
   "id": "08503edd",
   "metadata": {},
   "outputs": [],
   "source": [
    "def descensoGradiente(theta, X, y, alpha, num_iters):\n",
    "    # Inicializa algunos valores\n",
    "    m = y.shape[0] # numero de ejemplos de entrenamiento\n",
    "\n",
    "    # realiza una copia de theta, el cual será acutalizada por el descenso por el gradiente\n",
    "    theta = theta.copy()\n",
    "    J_history = []\n",
    "\n",
    "    for i in range(num_iters):\n",
    "        h = sigmoid(X.dot(theta.T))\n",
    "        theta = theta - (alpha / m) * (h - y).dot(X)\n",
    "\n",
    "        J_history.append(calcularCosto(theta, X, y))\n",
    "    return theta, J_history"
   ]
  },
  {
   "cell_type": "markdown",
   "id": "96ac75bc",
   "metadata": {},
   "source": [
    "FUNCION DE COSTO REGULARIZADA\n",
    "\n",
    "  devuelve el costo J como tambien el gradiente"
   ]
  },
  {
   "cell_type": "code",
   "execution_count": 295,
   "id": "ce01b988",
   "metadata": {},
   "outputs": [],
   "source": [
    "def lrCostFunction(theta, X, y, lambda_):\n",
    "    m = y.size\n",
    "    theta = theta.astype(float)\n",
    "    X = X.astype(float)\n",
    "    y = y.astype(float)\n",
    "\n",
    "    h = sigmoid(X.dot(theta.T))\n",
    "    temp = theta.copy()\n",
    "    temp[0] = 0\n",
    "\n",
    "    epsilon = 1e-5\n",
    "    J = (1 / m) * np.sum(-y.dot(np.log(h + epsilon)) - (1 - y).dot(np.log(1 - h + epsilon))) \\\n",
    "        + (lambda_ / (2 * m)) * np.sum(np.square(temp))\n",
    "\n",
    "    grad = (1 / m) * (h - y).dot(X) + (lambda_ / m) * temp\n",
    "\n",
    "    return J, grad\n"
   ]
  },
  {
   "cell_type": "markdown",
   "id": "1c615526",
   "metadata": {},
   "source": [
    "CLASIFICACION ONE VS ALL"
   ]
  },
  {
   "cell_type": "code",
   "execution_count": 296,
   "id": "bbde42b5",
   "metadata": {},
   "outputs": [],
   "source": [
    "def OneVsAll(X, y, num_labels, lambda_):\n",
    "  alpha = 0.01\n",
    "  num_iters = 5000\n",
    "\n",
    "  m, n = X.shape\n",
    "  all_theta = np.zeros((num_labels, n + 1))\n",
    "\n",
    "  # Agrega unos a la matriz X\n",
    "  X = np.concatenate([np.ones((m, 1)), X], axis=1)\n",
    "\n",
    "  for c in np.arange(num_labels):\n",
    "      initial_theta = np.zeros(n + 1)\n",
    "\n",
    "      y_actual = np.where(y == c, 1, 0)\n",
    "\n",
    "      theta, J_history = descensoGradiente(initial_theta, X, y_actual, alpha, num_iters)\n",
    "\n",
    "      all_theta[c] = theta\n",
    "      # Grafica la convergencia del costo\n",
    "      pyplot.plot(np.arange(len(J_history)), J_history, lw=2)\n",
    "      pyplot.xlabel('Numero de iteraciones')\n",
    "      pyplot.ylabel('Costo J')\n",
    "\n",
    "  return all_theta"
   ]
  },
  {
   "cell_type": "code",
   "execution_count": 297,
   "id": "f6387ee1",
   "metadata": {},
   "outputs": [
    {
     "name": "stdout",
     "output_type": "stream",
     "text": [
      "(7, 17)\n"
     ]
    },
    {
     "data": {
      "image/png": "[encoded data removed]",
      "text/plain": [
       "<Figure size 640x480 with 1 Axes>"
      ]
     },
     "metadata": {},
     "output_type": "display_data"
    }
   ],
   "source": [
    "lambda_ = 0.1\n",
    "all_theta = OneVsAll(X, y, num_labels, lambda_)\n",
    "print(all_theta.shape)"
   ]
  },
  {
   "cell_type": "markdown",
   "id": "b2ee02e3",
   "metadata": {},
   "source": [
    "PREDICCION DE ENTRENAMIENTO Y PRUEVA DE ONE VS ALL"
   ]
  },
  {
   "cell_type": "code",
   "execution_count": null,
   "id": "dde5cac4",
   "metadata": {},
   "outputs": [],
   "source": [
    "def predictOneVsAll(all_theta, X):\n",
    "    \n",
    "\n",
    "    m = X.shape[0]\n",
    "    X = np.concatenate([np.ones((m, 1)), X], axis=1)\n",
    "    p = np.argmax(sigmoid(X.dot(all_theta.T)), axis = 1)\n",
    "\n",
    "    return p"
   ]
  },
  {
   "cell_type": "code",
   "execution_count": 298,
   "id": "7c42346d",
   "metadata": {},
   "outputs": [
    {
     "name": "stdout",
     "output_type": "stream",
     "text": [
      "Shape de X_test: (2723, 16)\n",
      "Precisión en el conjunto de entrenamiento: 89.36%\n",
      "Precisión en el conjunto de prueba: 87.84%\n",
      "\n",
      "Predicciones (primeros 20 ejemplos test):\n",
      "[1 1 3 6 3 0 1 0 4 1 0 0 0 3 0 1 1 0 2 0]\n",
      "Reales:\n",
      "[1 1 3 6 3 0 1 0 4 4 1 0 0 3 0 2 1 0 2 0]\n"
     ]
    }
   ],
   "source": [
    "# Primero imprimimos el tamaño del test\n",
    "print(\"Shape de X_test:\", X_test.shape)\n",
    "\n",
    "# Normalizamos X_test con los mismos parámetros del train\n",
    "X_test_norm = (X_test - mu) / sigma  \n",
    "\n",
    "# Predicción sobre train (para referencia)\n",
    "pred_train = predictOneVsAll(all_theta, X)\n",
    "print('Precisión en el conjunto de entrenamiento: {:.2f}%'.format(np.mean(pred_train == y) * 100))\n",
    "\n",
    "# Predicción sobre test\n",
    "pred_test = predictOneVsAll(all_theta, X_test_norm)\n",
    "print('Precisión en el conjunto de prueba: {:.2f}%'.format(np.mean(pred_test == y_test) * 100))\n",
    "\n",
    "\n",
    "print(\"\\nPredicciones (primeros 20 ejemplos test):\")\n",
    "print(pred_test[:20])\n",
    "print(\"Reales:\")\n",
    "print(y_test[:20])\n"
   ]
  },
  {
   "cell_type": "markdown",
   "id": "6ace3165",
   "metadata": {},
   "source": [
    "CLASIFICACION ONE VS ALL CON USO DE"
   ]
  },
  {
   "cell_type": "code",
   "execution_count": 299,
   "id": "ed1b427a",
   "metadata": {},
   "outputs": [],
   "source": [
    "def OneVsAllOM(X, y, num_labels, lambda_):\n",
    "    # algunas variables utiles\n",
    "    m, n = X.shape\n",
    "\n",
    "    all_theta = np.zeros((num_labels, n + 1))\n",
    "\n",
    "    # Agrega unos a la matriz X\n",
    "    X = np.concatenate([np.ones((m, 1)), X], axis=1)\n",
    "\n",
    "    for c in np.arange(num_labels):\n",
    "        initial_theta = np.zeros(n + 1)\n",
    "        options = {'maxiter': 10}\n",
    "        res = optimize.minimize(lrCostFunction,\n",
    "                                initial_theta,\n",
    "                                (X, (y == c), lambda_),\n",
    "                                jac=True,\n",
    "                                method='CG',\n",
    "                                options=options)\n",
    "\n",
    "        all_theta[c] = res.x\n",
    "\n",
    "\n",
    "    return all_theta"
   ]
  },
  {
   "cell_type": "code",
   "execution_count": 300,
   "id": "0ac2c197",
   "metadata": {},
   "outputs": [
    {
     "name": "stdout",
     "output_type": "stream",
     "text": [
      "(7, 17)\n",
      "[[-6.95453584e+00 -6.44822896e-01 -1.59907048e+00 -1.74359503e+00\n",
      "  -1.28013393e+00 -2.46960894e+00  3.68334906e+00 -6.38987044e-01\n",
      "  -1.38412623e+00 -5.00989817e-01 -5.86994386e-01  2.35517290e+00\n",
      "   2.52759266e-01  2.54565955e+00  3.07930901e-01 -5.62609938e-01\n",
      "   1.05510526e+00]\n",
      " [-2.56297293e+00 -1.69785063e+00 -1.17988877e+00 -1.49263447e+00\n",
      "  -1.94090832e-01 -2.21543913e+00  2.66102484e+00 -1.70988543e+00\n",
      "  -7.13967330e-01 -7.21226988e-02  1.01694057e-01  1.12089896e+00\n",
      "   1.24104922e-01 -2.86632323e+00 -3.18158260e+00 -5.66235713e-01\n",
      "  -1.71707960e-01]\n",
      " [-5.92965900e+00 -8.76163035e-01 -1.70182406e-01 -7.34990757e-02\n",
      "  -2.33748749e-02 -9.54509106e-02 -1.80020408e+00 -8.80246222e-01\n",
      "  -1.05506403e-01 -3.61304927e-01  1.16289021e+00  4.30869119e-01\n",
      "   7.84242477e-01 -2.27302698e+00 -1.00981809e-01  1.01824487e+00\n",
      "   1.33265504e+00]\n",
      " [-7.12003872e+00 -7.60694807e-01 -2.37363434e-01  1.80387121e-01\n",
      "  -8.73682739e-01  2.12536446e+00  1.68453488e-01 -7.70126603e-01\n",
      "  -4.05407854e-01 -2.78846653e-01  6.80429600e-01 -1.08750784e+00\n",
      "  -1.30651386e+00  4.63122634e-02 -7.16544297e-01 -1.03631752e+00\n",
      "  -9.61506704e-01]\n",
      " [-4.41294087e+00 -2.17607309e+00 -6.18221612e-05  4.43269878e-01\n",
      "   1.18755662e-02 -6.73664725e-01  1.18751869e+00 -2.17882012e+00\n",
      "   3.58408857e-01  1.81275365e-01  4.65023637e-01  1.75134969e+00\n",
      "  -3.66691118e-01 -4.51282934e+00 -2.06474232e+00 -6.44783309e-01\n",
      "  -1.13533830e+00]\n",
      " [-3.98423263e+00 -1.16983434e+00  3.64896389e-01 -3.84776602e-01\n",
      "   3.20055298e-01 -1.06205070e+00  6.36727398e-01 -1.15949153e+00\n",
      "   3.06959984e-02  2.48809762e-01 -3.17884772e-01 -2.14024078e+00\n",
      "   4.57533417e-01 -2.29598654e+00 -1.33707183e+00  2.28681237e-01\n",
      "   2.05985976e+00]\n",
      " [-6.36624786e+00  9.66995643e-01  2.73577160e-01  2.63453471e-01\n",
      "   5.24059865e-01 -1.98903294e-01  1.18415519e-02  9.64072876e-01\n",
      "   4.05951174e-01 -7.99449091e-02  1.44353730e-01  6.20827484e-01\n",
      "   1.42934783e-01  5.69257500e-01  2.86080868e-01  1.16882011e-01\n",
      "   8.62523812e-02]]\n"
     ]
    }
   ],
   "source": [
    "lambda_ = 0.1\n",
    "all_thetaom = OneVsAllOM(X, y, num_labels, lambda_)\n",
    "print(all_thetaom.shape)\n",
    "print(all_thetaom)"
   ]
  },
  {
   "cell_type": "markdown",
   "id": "be84bc1c",
   "metadata": {},
   "source": []
  },
  {
   "cell_type": "code",
   "execution_count": 302,
   "id": "767e50b2",
   "metadata": {},
   "outputs": [
    {
     "name": "stdout",
     "output_type": "stream",
     "text": [
      "Shape de X_test: (2723, 16)\n",
      "Precisión en el conjunto de entrenamiento: 91.54%\n",
      "Precisión en el conjunto de prueba: 89.46%\n",
      "\n",
      "Predicciones (primeros 20 ejemplos test):\n",
      "[1 1 3 6 3 0 1 0 4 4 0 0 0 3 1 1 4 0 2 0]\n",
      "Reales:\n",
      "[1 1 3 6 3 0 1 0 4 4 1 0 0 3 0 2 1 0 2 0]\n"
     ]
    }
   ],
   "source": [
    "\n",
    "print(\"Shape de X_test:\", X_test.shape)\n",
    "\n",
    "\n",
    "X_test_norm = (X_test - mu) / sigma  \n",
    "\n",
    "\n",
    "pred_train = predictOneVsAll(all_thetaom, X)\n",
    "print('Precisión en el conjunto de entrenamiento: {:.2f}%'.format(np.mean(pred_train == y) * 100))\n",
    "\n",
    "pred_test = predictOneVsAll(all_thetaom, X_test_norm)\n",
    "print('Precisión en el conjunto de prueba: {:.2f}%'.format(np.mean(pred_test == y_test) * 100))\n",
    "\n",
    "\n",
    "print(\"\\nPredicciones (primeros 20 ejemplos test):\")\n",
    "print(pred_test[:20])\n",
    "print(\"Reales:\")\n",
    "print(y_test[:20])\n"
   ]
  }
 ],
 "metadata": {
  "kernelspec": {
   "display_name": "laboratorio4",
   "language": "python",
   "name": "python3"
  },
  "language_info": {
   "codemirror_mode": {
    "name": "ipython",
    "version": 3
   },
   "file_extension": ".py",
   "mimetype": "text/x-python",
   "name": "python",
   "nbconvert_exporter": "python",
   "pygments_lexer": "ipython3",
   "version": "3.10.18"
  }
 },
 "nbformat": 4,
 "nbformat_minor": 5
}
