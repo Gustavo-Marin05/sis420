{
 "cells": [
  {
   "cell_type": "code",
   "execution_count": 23,
   "id": "b161a0f6",
   "metadata": {},
   "outputs": [],
   "source": [
    "import pandas as pd"
   ]
  },
  {
   "cell_type": "code",
   "execution_count": 24,
   "id": "689b1dce",
   "metadata": {},
   "outputs": [
    {
     "data": {
      "text/html": [
       "<div>\n",
       "<style scoped>\n",
       "    .dataframe tbody tr th:only-of-type {\n",
       "        vertical-align: middle;\n",
       "    }\n",
       "\n",
       "    .dataframe tbody tr th {\n",
       "        vertical-align: top;\n",
       "    }\n",
       "\n",
       "    .dataframe thead th {\n",
       "        text-align: right;\n",
       "    }\n",
       "</style>\n",
       "<table border=\"1\" class=\"dataframe\">\n",
       "  <thead>\n",
       "    <tr style=\"text-align: right;\">\n",
       "      <th></th>\n",
       "      <th>PROPIEDAD DE WWW.DOLARBLUEBOLIVIA.CLICK</th>\n",
       "      <th>Unnamed: 1</th>\n",
       "      <th>Unnamed: 2</th>\n",
       "      <th>Unnamed: 3</th>\n",
       "      <th>Unnamed: 4</th>\n",
       "    </tr>\n",
       "  </thead>\n",
       "  <tbody>\n",
       "    <tr>\n",
       "      <th>0</th>\n",
       "      <td>NaN</td>\n",
       "      <td>NaN</td>\n",
       "      <td>NaN</td>\n",
       "      <td>NaN</td>\n",
       "      <td>NaN</td>\n",
       "    </tr>\n",
       "    <tr>\n",
       "      <th>1</th>\n",
       "      <td>21/07/2024 17:36:42</td>\n",
       "      <td>6,86</td>\n",
       "      <td>6,96</td>\n",
       "      <td>10,13</td>\n",
       "      <td>10,17</td>\n",
       "    </tr>\n",
       "    <tr>\n",
       "      <th>2</th>\n",
       "      <td>21/07/2024 17:44:16</td>\n",
       "      <td>6,86</td>\n",
       "      <td>6,96</td>\n",
       "      <td>10,13</td>\n",
       "      <td>10,17</td>\n",
       "    </tr>\n",
       "    <tr>\n",
       "      <th>3</th>\n",
       "      <td>21/07/2024 17:59:16</td>\n",
       "      <td>6,86</td>\n",
       "      <td>6,96</td>\n",
       "      <td>10,14</td>\n",
       "      <td>10,17</td>\n",
       "    </tr>\n",
       "    <tr>\n",
       "      <th>4</th>\n",
       "      <td>21/07/2024 18:14:15</td>\n",
       "      <td>6,86</td>\n",
       "      <td>6,96</td>\n",
       "      <td>10,14</td>\n",
       "      <td>10,17</td>\n",
       "    </tr>\n",
       "  </tbody>\n",
       "</table>\n",
       "</div>"
      ],
      "text/plain": [
       "  PROPIEDAD DE WWW.DOLARBLUEBOLIVIA.CLICK Unnamed: 1 Unnamed: 2 Unnamed: 3  \\\n",
       "0                                     NaN        NaN        NaN        NaN   \n",
       "1                     21/07/2024 17:36:42       6,86       6,96      10,13   \n",
       "2                     21/07/2024 17:44:16       6,86       6,96      10,13   \n",
       "3                     21/07/2024 17:59:16       6,86       6,96      10,14   \n",
       "4                     21/07/2024 18:14:15       6,86       6,96      10,14   \n",
       "\n",
       "  Unnamed: 4  \n",
       "0        NaN  \n",
       "1      10,17  \n",
       "2      10,17  \n",
       "3      10,17  \n",
       "4      10,17  "
      ]
     },
     "execution_count": 24,
     "metadata": {},
     "output_type": "execute_result"
    }
   ],
   "source": [
    "datos = pd.read_csv(\"./DATABASE DOLAR BLUE EN BOLIVIA - Hoja1.csv\")\n",
    "\n",
    "datos.head()"
   ]
  },
  {
   "cell_type": "code",
   "execution_count": 25,
   "id": "f0b987d1",
   "metadata": {},
   "outputs": [
    {
     "name": "stdout",
     "output_type": "stream",
     "text": [
      "<class 'pandas.core.frame.DataFrame'>\n",
      "RangeIndex: 38551 entries, 0 to 38550\n",
      "Data columns (total 5 columns):\n",
      " #   Column                                   Non-Null Count  Dtype \n",
      "---  ------                                   --------------  ----- \n",
      " 0   PROPIEDAD DE WWW.DOLARBLUEBOLIVIA.CLICK  38550 non-null  object\n",
      " 1   Unnamed: 1                               38550 non-null  object\n",
      " 2   Unnamed: 2                               38550 non-null  object\n",
      " 3   Unnamed: 3                               38550 non-null  object\n",
      " 4   Unnamed: 4                               38550 non-null  object\n",
      "dtypes: object(5)\n",
      "memory usage: 1.5+ MB\n"
     ]
    }
   ],
   "source": [
    "datos.info()"
   ]
  },
  {
   "cell_type": "code",
   "execution_count": 26,
   "id": "629534eb",
   "metadata": {},
   "outputs": [
    {
     "data": {
      "text/html": [
       "<div>\n",
       "<style scoped>\n",
       "    .dataframe tbody tr th:only-of-type {\n",
       "        vertical-align: middle;\n",
       "    }\n",
       "\n",
       "    .dataframe tbody tr th {\n",
       "        vertical-align: top;\n",
       "    }\n",
       "\n",
       "    .dataframe thead th {\n",
       "        text-align: right;\n",
       "    }\n",
       "</style>\n",
       "<table border=\"1\" class=\"dataframe\">\n",
       "  <thead>\n",
       "    <tr style=\"text-align: right;\">\n",
       "      <th></th>\n",
       "      <th>fecha_hora</th>\n",
       "      <th>oficial_compra</th>\n",
       "      <th>oficial_venta</th>\n",
       "      <th>paralelo_compra</th>\n",
       "      <th>paralelo_venta</th>\n",
       "    </tr>\n",
       "  </thead>\n",
       "  <tbody>\n",
       "    <tr>\n",
       "      <th>0</th>\n",
       "      <td>NaT</td>\n",
       "      <td>NaN</td>\n",
       "      <td>NaN</td>\n",
       "      <td>NaN</td>\n",
       "      <td>NaN</td>\n",
       "    </tr>\n",
       "    <tr>\n",
       "      <th>1</th>\n",
       "      <td>2024-07-21 17:36:42</td>\n",
       "      <td>6.86</td>\n",
       "      <td>6.96</td>\n",
       "      <td>10.13</td>\n",
       "      <td>10.17</td>\n",
       "    </tr>\n",
       "    <tr>\n",
       "      <th>2</th>\n",
       "      <td>2024-07-21 17:44:16</td>\n",
       "      <td>6.86</td>\n",
       "      <td>6.96</td>\n",
       "      <td>10.13</td>\n",
       "      <td>10.17</td>\n",
       "    </tr>\n",
       "    <tr>\n",
       "      <th>3</th>\n",
       "      <td>2024-07-21 17:59:16</td>\n",
       "      <td>6.86</td>\n",
       "      <td>6.96</td>\n",
       "      <td>10.14</td>\n",
       "      <td>10.17</td>\n",
       "    </tr>\n",
       "    <tr>\n",
       "      <th>4</th>\n",
       "      <td>2024-07-21 18:14:15</td>\n",
       "      <td>6.86</td>\n",
       "      <td>6.96</td>\n",
       "      <td>10.14</td>\n",
       "      <td>10.17</td>\n",
       "    </tr>\n",
       "  </tbody>\n",
       "</table>\n",
       "</div>"
      ],
      "text/plain": [
       "           fecha_hora  oficial_compra  oficial_venta  paralelo_compra  \\\n",
       "0                 NaT             NaN            NaN              NaN   \n",
       "1 2024-07-21 17:36:42            6.86           6.96            10.13   \n",
       "2 2024-07-21 17:44:16            6.86           6.96            10.13   \n",
       "3 2024-07-21 17:59:16            6.86           6.96            10.14   \n",
       "4 2024-07-21 18:14:15            6.86           6.96            10.14   \n",
       "\n",
       "   paralelo_venta  \n",
       "0             NaN  \n",
       "1           10.17  \n",
       "2           10.17  \n",
       "3           10.17  \n",
       "4           10.17  "
      ]
     },
     "execution_count": 26,
     "metadata": {},
     "output_type": "execute_result"
    }
   ],
   "source": [
    "\"\"\" cambiamos los nombres de las columnas \"\"\"\n",
    "\n",
    "datos.columns = ['fecha_hora', 'oficial_compra', 'oficial_venta', 'paralelo_compra', 'paralelo_venta']\n",
    "\n",
    "for col in ['oficial_compra', 'oficial_venta', 'paralelo_compra', 'paralelo_venta']:\n",
    "    datos[col] = datos[col].str.replace(',', '.', regex=False).astype(float)\n",
    "\n",
    "datos['fecha_hora'] = pd.to_datetime(datos['fecha_hora'], dayfirst=True)\n",
    "\n",
    "datos.head()\n"
   ]
  },
  {
   "cell_type": "code",
   "execution_count": 27,
   "id": "c553f50a",
   "metadata": {},
   "outputs": [
    {
     "name": "stdout",
     "output_type": "stream",
     "text": [
      "<class 'pandas.core.frame.DataFrame'>\n",
      "RangeIndex: 38551 entries, 0 to 38550\n",
      "Data columns (total 5 columns):\n",
      " #   Column           Non-Null Count  Dtype         \n",
      "---  ------           --------------  -----         \n",
      " 0   fecha_hora       38550 non-null  datetime64[ns]\n",
      " 1   oficial_compra   38550 non-null  float64       \n",
      " 2   oficial_venta    38550 non-null  float64       \n",
      " 3   paralelo_compra  38550 non-null  float64       \n",
      " 4   paralelo_venta   38550 non-null  float64       \n",
      "dtypes: datetime64[ns](1), float64(4)\n",
      "memory usage: 1.5 MB\n"
     ]
    }
   ],
   "source": [
    "datos.info()"
   ]
  },
  {
   "cell_type": "code",
   "execution_count": 31,
   "id": "64e7bed5",
   "metadata": {},
   "outputs": [
    {
     "data": {
      "text/plain": [
       "(38551, 30840, 7711)"
      ]
     },
     "execution_count": 31,
     "metadata": {},
     "output_type": "execute_result"
    }
   ],
   "source": [
    "\"\"\" separaremos datos de entrenamiento y datos de prueba \"\"\"\n",
    "\n",
    "from sklearn.model_selection import train_test_split\n",
    "\n",
    "train, test = train_test_split(datos, test_size=0.2) \n",
    "\n",
    "len(datos), len(train), len(test)"
   ]
  },
  {
   "cell_type": "code",
   "execution_count": 34,
   "id": "3740346f",
   "metadata": {},
   "outputs": [
    {
     "data": {
      "image/png": "[encoded data removed]",
      "text/plain": [
       "<Figure size 1500x500 with 1 Axes>"
      ]
     },
     "metadata": {},
     "output_type": "display_data"
    }
   ],
   "source": [
    "from sklearn.model_selection import train_test_split\n",
    "import matplotlib.pyplot as plt\n",
    "train, test = train_test_split(datos, test_size=0.2, random_state=42)\n",
    "\n",
    "fig = plt.figure(figsize=(15, 5))\n",
    "ax = plt.subplot(1, 1, 1)\n",
    "\n",
    "ax.hist(train['paralelo_compra'], bins=50, alpha=0.7, label='Train', color='blue')\n",
    "ax.hist(test['paralelo_compra'], bins=50, alpha=0.7, label='Test', color='red')\n",
    "\n",
    "ax.set_title('Distribución de \"paralelo_compra\" en train y test')\n",
    "ax.set_xlabel('Precio (Bs)')\n",
    "ax.set_ylabel('Frecuencia')\n",
    "ax.legend()\n",
    "plt.show()\n"
   ]
  },
  {
   "cell_type": "code",
   "execution_count": null,
   "id": "04656dbf",
   "metadata": {},
   "outputs": [],
   "source": [
    "from sklearn.linear_model import LinearRegression\n",
    "\n",
    "lin_reg = LinearRegression()\n",
    "lin_reg.fit(X_train, y_train)"
   ]
  }
 ],
 "metadata": {
  "kernelspec": {
   "display_name": "Python 3",
   "language": "python",
   "name": "python3"
  },
  "language_info": {
   "codemirror_mode": {
    "name": "ipython",
    "version": 3
   },
   "file_extension": ".py",
   "mimetype": "text/x-python",
   "name": "python",
   "nbconvert_exporter": "python",
   "pygments_lexer": "ipython3",
   "version": "3.10.0"
  }
 },
 "nbformat": 4,
 "nbformat_minor": 5
}
